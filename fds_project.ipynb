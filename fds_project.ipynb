{
  "nbformat": 4,
  "nbformat_minor": 0,
  "metadata": {
    "colab": {
      "provenance": []
    },
    "kernelspec": {
      "name": "python3",
      "display_name": "Python 3"
    },
    "language_info": {
      "name": "python"
    }
  },
  "cells": [
    {
      "cell_type": "markdown",
      "source": [
        "A predictive model to predict the patients getting admitted in the near future, with respect to each state."
      ],
      "metadata": {
        "id": "LK3aHN9zlOtc"
      }
    },
    {
      "cell_type": "code",
      "execution_count": 4,
      "metadata": {
        "colab": {
          "base_uri": "https://localhost:8080/"
        },
        "id": "oozrZ5mWgsrQ",
        "outputId": "f73ab3e8-2886-497f-95a0-b4c4f024a761"
      },
      "outputs": [
        {
          "output_type": "stream",
          "name": "stdout",
          "text": [
            "[-0.13069095  6.46233902  2.9151751   5.87702391  3.23081261  6.84857064\n",
            "  1.66513335 50.76672259  2.65670041  1.54815561  7.33147185]\n"
          ]
        }
      ],
      "source": [
        "import pandas as pd\n",
        "from sklearn.model_selection import train_test_split\n",
        "from sklearn.linear_model import LinearRegression\n",
        "from sklearn.metrics import mean_squared_error\n",
        "from sklearn.impute import SimpleImputer\n",
        "from sklearn.preprocessing import StandardScaler, OneHotEncoder\n",
        "from sklearn.compose import ColumnTransformer\n",
        "from sklearn.pipeline import Pipeline\n",
        "\n",
        "# Load dataset\n",
        "covid = pd.read_csv('/content/covid.csv')\n",
        "\n",
        "# Define response variable and predictor variables\n",
        "response_variable = 'hospital_onset_covid'\n",
        "predictor_variables = [\n",
        "    'state',\n",
        "    'previous_day_admission_adult_covid_confirmed',\n",
        "    'previous_day_admission_pediatric_covid_confirmed',\n",
        "    'staffed_icu_adult_patients_confirmed_covid',\n",
        "    'total_adult_patients_hospitalized_confirmed_covid',\n",
        "    'total_pediatric_patients_hospitalized_confirmed_covid'\n",
        "    # Add other variables as needed\n",
        "]\n",
        "\n",
        "# Separate features (X) and target variable (y)\n",
        "x = covid[predictor_variables]\n",
        "y = covid[response_variable]\n",
        "\n",
        "# Split the data into training and testing sets\n",
        "X_train, X_test, y_train, y_test = train_test_split(x, y, test_size=0.2, random_state=42)\n",
        "\n",
        "# Handle missing values in the target variable\n",
        "y_imputer = SimpleImputer(strategy='mean')\n",
        "y_train = y_imputer.fit_transform(y_train.values.reshape(-1, 1)).ravel()\n",
        "y_test = y_imputer.transform(y_test.values.reshape(-1, 1)).ravel()\n",
        "\n",
        "# Create a column transformer for preprocessing\n",
        "# This will handle one-hot encoding for categorical variables and scaling for numerical variables\n",
        "preprocessor = ColumnTransformer(\n",
        "    transformers=[\n",
        "        ('num', StandardScaler(), x.select_dtypes(include='number').columns),\n",
        "        ('cat', OneHotEncoder(handle_unknown='ignore'), ['state'])\n",
        "    ])\n",
        "\n",
        "# Create a linear regression model pipeline\n",
        "model = Pipeline(steps=[('preprocessor', preprocessor),\n",
        "                        ('regressor', LinearRegression())])\n",
        "\n",
        "# Fit the model to the training data\n",
        "model.fit(X_train, y_train)\n",
        "\n",
        "# Make predictions on the test set\n",
        "y_pred = model.predict(X_test)\n",
        "print(y_pred)"
      ]
    },
    {
      "cell_type": "code",
      "source": [],
      "metadata": {
        "id": "h0-zbnAhhKDy"
      },
      "execution_count": null,
      "outputs": []
    }
  ]
}